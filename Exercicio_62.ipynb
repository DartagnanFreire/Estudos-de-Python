{
  "nbformat": 4,
  "nbformat_minor": 0,
  "metadata": {
    "colab": {
      "name": "Exercicio 62.ipynb",
      "provenance": [],
      "collapsed_sections": [],
      "authorship_tag": "ABX9TyOZadRtBZstec1/VsaU4eNB",
      "include_colab_link": true
    },
    "kernelspec": {
      "name": "python3",
      "display_name": "Python 3"
    },
    "language_info": {
      "name": "python"
    }
  },
  "cells": [
    {
      "cell_type": "markdown",
      "metadata": {
        "id": "view-in-github",
        "colab_type": "text"
      },
      "source": [
        "<a href=\"https://colab.research.google.com/github/DartagnanFreire/Estudos-de-Python/blob/main/Exercicio_62.ipynb\" target=\"_parent\"><img src=\"https://colab.research.google.com/assets/colab-badge.svg\" alt=\"Open In Colab\"/></a>"
      ]
    },
    {
      "cell_type": "code",
      "execution_count": 3,
      "metadata": {
        "colab": {
          "base_uri": "https://localhost:8080/"
        },
        "id": "iLPWo4puujTH",
        "outputId": "d6c81208-253d-440e-c74d-9d0eeb23622a"
      },
      "outputs": [
        {
          "output_type": "stream",
          "name": "stdout",
          "text": [
            "Primeiro termo: 2\n",
            "Razão da PA: 2\n",
            "2 -> 4 -> 6 -> 8 -> 10 -> 12 -> 14 -> 16 -> 18 -> 20 PAUSA\n",
            "Quantos termos mais você quer ver? 4\n",
            "22 -> 24 -> 26 -> 28 PAUSA\n",
            "Quantos termos mais você quer ver? 9\n",
            "30 -> 32 -> 34 -> 36 -> 38 -> 40 -> 42 -> 44 -> 46 PAUSA\n",
            "Quantos termos mais você quer ver? 0\n",
            "Progressão finalizada com 23 termos mostrados\n"
          ]
        }
      ],
      "source": [
        "primeiro = int(input('Primeiro termo: '))\n",
        "razao = int(input('Razão da PA: '))\n",
        "termo = primeiro\n",
        "cont = 1\n",
        "total = 0\n",
        "mais = 10\n",
        "while mais != 0:\n",
        "  total += mais\n",
        "  while cont <= total:\n",
        "    print (f'{termo}', end = '')\n",
        "    print (' -> ' if cont < total else '', end='')\n",
        "    termo += razao\n",
        "    cont += 1\n",
        "  print (' PAUSA')\n",
        "  mais = int(input('Quantos termos mais você quer ver? '))\n",
        "print(f'Progressão finalizada com {total} termos mostrados')"
      ]
    }
  ]
}